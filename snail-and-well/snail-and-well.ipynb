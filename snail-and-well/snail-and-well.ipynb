{
 "cells": [
  {
   "cell_type": "markdown",
   "metadata": {},
   "source": [
    "# Snail and well\n",
    "\n",
    "A snail falls at the bottom of a 125 cm well. Each day the snail rises 30 cm. But at night, while sleeping, slides 20 cm because the walls are wet. How many days does it take to escape from the well?\n",
    "\n",
    "TIP: http://puzzles.nigelcoldwell.co.uk/sixtytwo.htm"
   ]
  },
  {
   "cell_type": "markdown",
   "metadata": {},
   "source": [
    "## Solución"
   ]
  },
  {
   "cell_type": "code",
   "execution_count": 1,
   "metadata": {},
   "outputs": [],
   "source": [
    "# Assign problem data to variables with representative names\n",
    "# well height, daily advance, night retreat, accumulated distance\n",
    "# Assign 0 to the variable that represents the solution\n",
    "# Write the code that solves the problem\n",
    "# Print the result with print('Days =', days)\n",
    "\n",
    "Well_height = 125\n",
    "D_advance = 30\n",
    "N_retreat = 20\n",
    "A_Distance = D_advance - N_retreat \n",
    "total_days = 0\n",
    "position = 0 \n",
    "\n",
    "print(\"je commence mon voyage \", total_days, \" J'ai parcouru\", position ,\"sur le total \",Well_height)\n",
    "while position<125:\n",
    "    total_days +=1\n",
    "\n",
    "    # 0 = 0 + 30\n",
    "    # 30 = 30+30\n",
    "    # 60= 60+30\n",
    "    position = position + D_advance \n",
    "\n",
    "    if position <125:\n",
    "        position = position - N_retreat\n",
    "    \n",
    "    print(\"Fin de journee \", total_days, \" J'ai parcouru\", position ,\"sur le total \",Well_height)\n",
    "\n",
    "\n",
    "print(\"J'ai terminé mon voyage journée \", total_days, \" J'ai parcouru\", position ,\"sur le total \",Well_height)\n"
   ]
  },
  {
   "cell_type": "markdown",
   "metadata": {},
   "source": [
    "## Goals\n",
    "\n",
    "1. Treatment of variables\n",
    "2. Use of loop **while**\n",
    "3. Use of conditional **if-else**\n",
    "4. Print in console"
   ]
  },
  {
   "cell_type": "markdown",
   "metadata": {},
   "source": [
    "## Bonus\n",
    "The distance traveled by the snail is now defined by a list.\n",
    "```\n",
    "advance_cm = [30, 21, 33, 77, 44, 45, 23, 45, 12, 34, 55]\n",
    "```\n",
    "How long does it take to raise the well?\n",
    "\n",
    "What is its maximum displacement in one day? And its minimum?\n",
    "\n",
    "What is its average speed during the day?\n",
    "\n",
    "What is the standard deviation of its displacement during the day?"
   ]
  },
  {
   "cell_type": "code",
   "execution_count": 2,
   "metadata": {},
   "outputs": [],
   "source": [
    "# Assign problem data to variables with representative names\n",
    "# well height, daily advance, night retreat, accumulated distance\n",
    "# Assign 0 to the variable that represents the solution\n",
    "# Write the code that solves the problem\n",
    "# Print the result with print('Days =', days)\n",
    "# What is its maximum displacement in a day? And its minimum?\n",
    "# What is its average progress?\n",
    "# What is the standard deviation of your displacement during the day?\n",
    "\n",
    "Well_height = 125\n",
    "D_advance = 0\n",
    "N_retreat = 20\n",
    "A_Distance = D_advance - N_retreat \n",
    "total_days = 0\n",
    "position = 0 \n",
    "tableau = [30, 21, 33, 77, 44, 45, 23, 45, 12, 34, 55]\n",
    "\n",
    "print(\"je commence mon voyage \", total_days, \" J'ai parcouru\", position ,\"sur le total \",Well_height)\n",
    "while position<125:\n",
    "    D_advance = tableau[total_days]\n",
    "    total_days +=1\n",
    "\n",
    "    position = position + D_advance \n",
    "\n",
    "    print(\"Fin de journee \", total_days, \" J'ai parcouru\", position ,\"sur le total \",Well_height)\n",
    "\n",
    "\n",
    "print(\"J'ai terminé mon voyage journée \", total_days, \" J'ai parcouru\", position ,\"sur le total \",Well_height)\n",
    "\n",
    "max = max"
   ]
  },
  {
   "cell_type": "code",
   "execution_count": null,
   "metadata": {},
   "outputs": [],
   "source": []
  }
 ],
 "metadata": {
  "kernelspec": {
   "display_name": "Python 3",
   "language": "python",
   "name": "python3"
  },
  "language_info": {
   "codemirror_mode": {
    "name": "ipython",
    "version": 3
   },
   "file_extension": ".py",
   "mimetype": "text/x-python",
   "name": "python",
   "nbconvert_exporter": "python",
   "pygments_lexer": "ipython3",
   "version": "3.7.3"
  }
 },
 "nbformat": 4,
 "nbformat_minor": 2
}
