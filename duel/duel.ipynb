{
 "cells": [
  {
   "cell_type": "markdown",
   "metadata": {},
   "source": [
    "# Duel of sorcerers\n",
    "You are witnessing an epic battle between two powerful sorcerers: Gandalf and Saruman. Each sorcerer has 10 spells of variable power in their mind and they are going to throw them one after the other. The winner of the duel will be the one who wins more of those clashes between spells. Spells are represented as a list of 10 integers whose value equals the power of the spell.\n",
    "```\n",
    "gandalf = [10, 11, 13, 30, 22, 11, 10, 33, 22, 22]\n",
    "saruman = [23, 66, 12, 43, 12, 10, 44, 23, 12, 17]\n",
    "```\n",
    "For example:\n",
    "1. The first clash is won by Saruman: 10 against 23, wins 23\n",
    "2. The second clash wins Saruman: 11 against 66, wins 66\n",
    "3. etc.\n",
    "\n",
    "\n",
    "You will create two variables, one for each sorcerer, where the sum of clashes won will be stored. Depending on which variable is greater at the end of the duel, you will show one of the following three results on the screen:\n",
    "* Gandalf wins\n",
    "* Saruman wins\n",
    "* Tie\n",
    "\n",
    "<img src=\"images/content_lightning_bolt_big.jpg\" width=\"400\">"
   ]
  },
  {
   "cell_type": "markdown",
   "metadata": {},
   "source": [
    "## Solution"
   ]
  },
  {
   "cell_type": "code",
   "execution_count": 1,
   "metadata": {},
   "outputs": [],
   "source": [
    "# Assign spell power lists to variables\n",
    "\n",
    "gandalf = [10, 11, 13, 30, 22, 11, 10, 33, 22, 22]\n",
    "saruman = [23, 66, 12, 43, 12, 10, 44, 23, 12, 17]"
   ]
  },
  {
   "cell_type": "code",
   "execution_count": 2,
   "metadata": {},
   "outputs": [],
   "source": [
    "# Assign 0 to each variable that stores the victories\n",
    "gandalf = [10,11,13,30,22,11,10,33,22,22]\n",
    "saruman = [23,66,12,43,12,10,44,23,12,17]\n",
    "\n",
    "score_g = 0\n",
    "score_s = 0"
   ]
  },
  {
   "cell_type": "code",
   "execution_count": 1,
   "metadata": {},
   "outputs": [
    {
     "name": "stdout",
     "output_type": "stream",
     "text": [
      "Saruman remporte la manche.\n",
      "Saruman remporte la manche.\n",
      "Gandalf remporte la manche.\n",
      "Saruman remporte la manche.\n",
      "Gandalf remporte la manche.\n",
      "Gandalf remporte la manche.\n",
      "Saruman remporte la manche.\n",
      "Gandalf remporte la manche.\n",
      "Gandalf remporte la manche.\n",
      "Gandalf remporte la manche.\n"
     ]
    }
   ],
   "source": [
    "# Execution of spell clashes\n",
    "gandalf = [10,11,13,30,22,11,10,33,22,22]\n",
    "saruman = [23,66,12,43,12,10,44,23,12,17]\n",
    "\n",
    "score_g = 0\n",
    "score_s = 0\n",
    "\n",
    "for i in range(len(gandalf)): # for i in [0,1,2,3,4,5,6,7,8,9]:\n",
    "\n",
    "\tif gandalf[i] > saruman[i]: \n",
    "\t\tscore_g += 1 # score_g = score_g + 1 \n",
    "\t\tprint('Gandalf remporte la manche.')\n",
    "\n",
    "\telif saruman[i] > gandalf[i]: \n",
    "\t\tscore_s += 1\n",
    "\t\tprint('Saruman remporte la manche.')\n",
    "\n",
    "\telse:\n",
    "\t\tprint('Egalité pour cette manche.')"
   ]
  },
  {
   "cell_type": "code",
   "execution_count": 14,
   "metadata": {},
   "outputs": [
    {
     "name": "stdout",
     "output_type": "stream",
     "text": [
      "Saruman remporte 1 manche\n",
      "Saruman remporte 2 manche\n",
      "Gandalf remporte 1 manche\n",
      "Saruman remporte 3 manche\n",
      "Gandalf remporte 2 manche\n",
      "Gandalf remporte 3 manche\n",
      "Saruman remporte 4 manche\n",
      "Gandalf remporte 4 manche\n",
      "Gandalf remporte 5 manche\n",
      "Gandalf remporte 6 manche\n",
      "Gandalf gagne.\n",
      "\n"
     ]
    }
   ],
   "source": [
    "# We check who has won, do not forget the possibility of a draw.\n",
    "# Print the result based on the winner.\n",
    "\n",
    "gandalf = [10,11,13,30,22,11,10,33,22,22]\n",
    "saruman = [23,66,12,43,12,10,44,23,12,17]\n",
    "\n",
    "score_g = 0\n",
    "score_s = 0\n",
    "\n",
    "for i in range(len(gandalf)): # for i in [0,1,2,3,4,5,6,7,8,9]:\n",
    "\n",
    "\tif gandalf[i] > saruman[i]: \n",
    "\t\tscore_g += 1 # score_g = score_g + 1 \n",
    "\t\tprint('Gandalf remporte',score_g,'manche')\n",
    "\n",
    "\telif saruman[i] > gandalf[i]: \n",
    "\t\tscore_s += 1\n",
    "\t\tprint('Saruman remporte',score_s,'manche')\n",
    "\n",
    "\telse:\n",
    "\t\tprint('Egalité pour cette manche.')\n",
    "\t#\tscore_g += 1\n",
    "\t# score_s += 1\n",
    "\n",
    "\n",
    "if score_g > score_s: \n",
    "\tprint('Gandalf gagne.')\n",
    "\n",
    "elif score_s > score_g: \n",
    "\tprint('Saruman gagne.')\n",
    "\n",
    "else: \n",
    "\tprint('Egalité')\n",
    "\n",
    "print(\"\")\n",
    "\n"
   ]
  },
  {
   "cell_type": "markdown",
   "metadata": {},
   "source": [
    "## Goals\n",
    "\n",
    "1. Treatment of lists\n",
    "2. Use of **for loop**\n",
    "3. Use of conditional **if-elif-else**\n",
    "4. Use of the functions **range(), len()**\n",
    "5. Print"
   ]
  },
  {
   "cell_type": "markdown",
   "metadata": {},
   "source": [
    "## Bonus\n",
    "\n",
    "1. Spells now have a name and there is a dictionary that relates that name to a power.\n",
    "2. A sorcerer wins if he succeeds in winning 3 spell clashes in a row.\n",
    "3. Average of each of the spell lists.\n",
    "4. Standard deviation of each of the spell lists.\n",
    "\n",
    "```\n",
    "POWER = {\n",
    "    'Fireball': 50, \n",
    "    'Lightning bolt': 40, \n",
    "    'Magic arrow': 10, \n",
    "    'Black Tentacles': 25, \n",
    "    'Contagion': 45\n",
    "}\n",
    "\n",
    "gandalf = ['Fireball', 'Lightning bolt', 'Lightning bolt', 'Magic arrow', 'Fireball', \n",
    "           'Magic arrow', 'Lightning bolt', 'Fireball', 'Fireball', 'Fireball']\n",
    "saruman = ['Contagion', 'Contagion', 'Black Tentacles', 'Fireball', 'Black Tentacles', \n",
    "           'Lightning bolt', 'Magic arrow', 'Contagion', 'Magic arrow', 'Magic arrow']\n",
    "```\n",
    "\n",
    "Good luck!"
   ]
  },
  {
   "cell_type": "code",
   "execution_count": 5,
   "metadata": {},
   "outputs": [],
   "source": [
    "# 1. Spells now have a name and there is a dictionary that relates that name to a power.\n",
    "# variables\n",
    "\n",
    "POWER = {\n",
    "    'Fireball': 50, \n",
    "    'Lightning bolt': 40, \n",
    "    'Magic arrow': 10, \n",
    "    'Black Tentacles': 25, \n",
    "    'Contagion': 45\n",
    "}\n",
    "\n",
    "gandalf = ['Fireball', 'Lightning bolt', 'Lightning bolt', 'Magic arrow', 'Fireball', \n",
    "           'Magic arrow', 'Lightning bolt', 'Fireball', 'Magic arrow', 'Fireball']\n",
    "saruman = ['Contagion', 'Contagion', 'Black Tentacles', 'Fireball', 'Black Tentacles', \n",
    "           'Lightning bolt', 'Magic arrow', 'Contagion', 'Magic arrow', 'Magic arrow']"
   ]
  },
  {
   "cell_type": "code",
   "execution_count": 6,
   "metadata": {},
   "outputs": [],
   "source": [
    "# Assign spell power lists to variables\n",
    "score_g = 0\n",
    "score_s = 0\n"
   ]
  },
  {
   "cell_type": "code",
   "execution_count": 5,
   "metadata": {},
   "outputs": [
    {
     "name": "stdout",
     "output_type": "stream",
     "text": [
      "gandalf remporte la manche\n"
     ]
    }
   ],
   "source": [
    "# 2. A sorcerer wins if he succeeds in winning 3 spell clashes in a row.\n",
    "# Execution of spell clashes\n",
    "# check for 3 wins in a row\n",
    "# check the winner\n",
    "POWER = {\n",
    "    'Fireball': 50, \n",
    "    'Lightning bolt': 40, \n",
    "    'Magic arrow': 10, \n",
    "    'Black Tentacles': 25, \n",
    "    'Contagion': 45\n",
    "}\n",
    "\n",
    "gandalf = ['Fireball', 'Lightning bolt', 'Lightning bolt', 'Magic arrow', 'Fireball', \n",
    "           'Magic arrow', 'Lightning bolt', 'Fireball', 'Magic arrow', 'Fireball']\n",
    "saruman = ['Contagion', 'Contagion', 'Black Tentacles', 'Fireball', 'Black Tentacles', \n",
    "           'Lightning bolt', 'Magic arrow', 'Contagion', 'Magic arrow', 'Magic arrow']\n",
    "\n",
    "n_gandalf = 0\n",
    "n_saruman = 0\n",
    "\n",
    "for i in range(len(gandalf)):\n",
    "\tif POWER [gandalf [i]] > POWER [saruman[i]]:\n",
    "\t \tn_gandalf += 1\n",
    "\t \tn_saruman = 0\n",
    "\n",
    "\telif POWER[gandalf[i]]< POWER [saruman[i]]: \n",
    "\t \tn_saruman += 1\n",
    "\t \tn_gandalf = 0 \n",
    "\n",
    "\tif n_gandalf == 3:\n",
    "\t\tprint(\"gandalf remporte la manche\")\n",
    "\tif n_saruman == 3: \n",
    "\t\tprint(\"saruman remporte la manche\")\n",
    "\n"
   ]
  },
  {
   "cell_type": "code",
   "execution_count": 12,
   "metadata": {},
   "outputs": [],
   "source": [
    "# 3. Average of each of the spell lists.\n",
    "import math\n",
    "liste = [10,11,13,30,22,11,10,33,22,22]\n",
    "somme = sum(liste)\n",
    "avg = somme / len(liste)"
   ]
  },
  {
   "cell_type": "code",
   "execution_count": 13,
   "metadata": {},
   "outputs": [],
   "source": [
    "# 4. Standard deviation of each of the spell lists.\n",
    "import math\n",
    "liste = [10,11,13,30,22,11,10,33,22,22]\n",
    "somme = sum(liste)\n",
    "avg = somme / len(liste)\n",
    "\n",
    "std = 0\n",
    "for nombre in liste:\n",
    "\tstd += (nombre - avg)**2\n",
    "std /= len(liste)\n",
    "std = math.sqrt(std)"
   ]
  },
  {
   "cell_type": "code",
   "execution_count": null,
   "metadata": {},
   "outputs": [],
   "source": []
  }
 ],
 "metadata": {
  "kernelspec": {
   "display_name": "Python 3",
   "language": "python",
   "name": "python3"
  },
  "language_info": {
   "codemirror_mode": {
    "name": "ipython",
    "version": 3
   },
   "file_extension": ".py",
   "mimetype": "text/x-python",
   "name": "python",
   "nbconvert_exporter": "python",
   "pygments_lexer": "ipython3",
   "version": "3.7.3"
  }
 },
 "nbformat": 4,
 "nbformat_minor": 2
}
