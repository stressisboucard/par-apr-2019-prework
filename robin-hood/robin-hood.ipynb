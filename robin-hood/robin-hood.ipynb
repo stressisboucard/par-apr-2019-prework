{
 "cells": [
  {
   "cell_type": "markdown",
   "metadata": {},
   "source": [
    "# Robin Hood:\n",
    "We are in a competition to win the archery contest in Sherwood. With our bow and arrows we shoot on a target and try to hit as close as possible to the center.\n",
    "\n",
    "The center of the target is represented by the values (0, 0) on the coordinate axes.\n",
    "\n",
    "![](images/arrows.jpg)\n",
    "\n",
    "## Goals:\n",
    "* data structures: lists, sets, tuples\n",
    "* logical operators: if-elif-else\n",
    "* loop: while/for\n",
    "* minimum (optional sorting)\n",
    "\n",
    "## Description:\n",
    "In the 2-dimensional space, a point can be defined by a pair of values that correspond to the horizontal coordinate (x) and the vertical coordinate (y). The space can be divided into 4 zones (quadrants): Q1, Q2, Q3, Q4. Whose single point of union is the point (0, 0).\n",
    "\n",
    "If a point is in Q1 both its x coordinate and the y are positive. I leave a link to wikipedia to familiarize yourself with these quadrants.\n",
    "\n",
    "https://en.wikipedia.org/wiki/Cartesian_coordinate_system\n",
    "\n",
    "https://en.wikipedia.org/wiki/Euclidean_distance\n",
    "\n",
    "## Shots\n",
    "```\n",
    "points = [(4, 5), (-0, 2), (4, 7), (1, -3), (3, -2), (4, 5),\n",
    "          (3, 2), (5, 7), (-5, 7), (2, 2), (-4, 5), (0, -2),\n",
    "          (-4, 7), (-1, 3), (-3, 2), (-4, -5), (-3, 2),\n",
    "          (5, 7), (5, 7), (2, 2), (9, 9), (-8, -9)]\n",
    "```\n",
    "\n",
    "## Tasks\n",
    "1. Robin Hood is famous for hitting an arrow with another arrow. Did you get it?\n",
    "2. Calculate how many arrows have fallen in each quadrant.\n",
    "3. Find the point closest to the center. Calculate its distance to the center. \n",
    "4. If the target has a radius of 9, calculate the number of arrows that must be picked up in the forest."
   ]
  },
  {
   "cell_type": "code",
   "execution_count": 1,
   "metadata": {},
   "outputs": [],
   "source": [
    "# Variables\n",
    "\n",
    "points = [(4, 5), (-0, 2), (4, 7), (1, -3), (3, -2), (4, 5),\n",
    "          (3, 2), (5, 7), (-5, 7), (2, 2), (-4, 5), (0, -2),\n",
    "          (-4, 7), (-1, 3), (-3, 2), (-4, -5), (-3, 2),\n",
    "          (5, 7), (5, 7), (2, 2), (9, 9), (-8, -9)]"
   ]
  },
  {
   "cell_type": "code",
   "execution_count": 20,
   "metadata": {},
   "outputs": [
    {
     "name": "stdout",
     "output_type": "stream",
     "text": [
      "il y a 34 flèche l'une dans l'autre.\n"
     ]
    }
   ],
   "source": [
    "# 1. Robin Hood is famous for hitting an arrow with another arrow. Did you get it?\n",
    "points = [(4, 5), (-0, 2), (4, 7), (1, -3), (3, -2), (4, 5),\n",
    "          (3, 2), (5, 7), (-5, 7), (2, 2), (-4, 5), (0, -2),\n",
    "          (-4, 7), (-1, 3), (-3, 2), (-4, -5), (-3, 2),\n",
    "          (5, 7), (5, 7), (2, 2), (9, 9), (-8, -9)]\n",
    "\n",
    "#get_it = 0\n",
    "#for x1,y1 in points:\n",
    "    #for x2,y2 in points: \n",
    "        #if (x1,y1) == (x2,y2): \n",
    "            #get_it +=1\n",
    "\n",
    "#print(\"il y a\",get_it, \"flèche l'une dans l'autre.\")\n",
    "    \n"
   ]
  },
  {
   "cell_type": "code",
   "execution_count": 3,
   "metadata": {},
   "outputs": [
    {
     "name": "stdout",
     "output_type": "stream",
     "text": [
      "il y a  11 fleches dans le cadran 1\n",
      "il y a  6 fleches dans le cadran 2\n",
      "il y a  3 fleches dans le cadran 3\n",
      "il y a  2 fleches dans le cadran 4\n"
     ]
    }
   ],
   "source": [
    "# 2. Calculate how many arrows have fallen in each quadrant.\n",
    "points = [(4, 5), (-0, 2), (4, 7), (1, -3), (3, -2), (4, 5),\n",
    "          (3, 2), (5, 7), (-5, 7), (2, 2), (-4, 5), (0, -2),\n",
    "          (-4, 7), (-1, 3), (-3, 2), (-4, -5), (-3, 2),\n",
    "          (5, 7), (5, 7), (2, 2), (9, 9), (-8, -9)]\n",
    "\n",
    "Q1 = 0 # (+,+)\n",
    "Q2 = 0 # (-,+)\n",
    "Q3 = 0 # (-,-)\n",
    "Q4 = 0 # (+,-)\n",
    "\n",
    "for x,y in points: \n",
    "\tif x>= 0 and y >0:\n",
    "\t\tQ1+=1\n",
    "\telif x<0 and y >=0: \n",
    "\t\tQ2+=1\n",
    "\telif x<=0 and y<0: \n",
    "\t\tQ3+=1\n",
    "\telse: \n",
    "\t\tQ4+=1\n",
    "        \n",
    "print(\"il y a \",Q1,\"fleches dans le cadran 1\") \n",
    "print(\"il y a \",Q2,\"fleches dans le cadran 2\")\n",
    "print(\"il y a \",Q3,\"fleches dans le cadran 3\") \n",
    "print(\"il y a \",Q4,\"fleches dans le cadran 4\") \n"
   ]
  },
  {
   "cell_type": "code",
   "execution_count": 5,
   "metadata": {},
   "outputs": [
    {
     "name": "stdout",
     "output_type": "stream",
     "text": [
      "le point le plus proche est (0, 2) et la distance 2.0\n"
     ]
    }
   ],
   "source": [
    "# 3. Find the point closest to the center. Calculate its distance to the center\n",
    "# Defining a function that calculates the distance to the center can help.\n",
    "import math\n",
    "\n",
    "def distance(point1,point2):\n",
    "\tx1, y1 = point1 \n",
    "\tx2, y2 = point2\n",
    "\td= (x2-x1)**2 + (y2-y1)**2\n",
    "\td=math.sqrt(d)\n",
    "\treturn d\n",
    "\n",
    "distance_min = distance(points[0],(0,0))\n",
    "point_min = points[0]\n",
    "\n",
    "for x,y in points [1:]:\n",
    "\td = distance ((x,y),(0,0))\n",
    "\tif d<distance_min: \n",
    "\t\tdistance_min = d\n",
    "\t\tpoint_min = (x,y)\n",
    "\n",
    "print(\"le point le plus proche est\",point_min,\"et la distance\",distance_min)\n",
    "\n"
   ]
  },
  {
   "cell_type": "code",
   "execution_count": 7,
   "metadata": {},
   "outputs": [
    {
     "name": "stdout",
     "output_type": "stream",
     "text": [
      "il y a 2 fleche perdu dans la forêt.\n"
     ]
    }
   ],
   "source": [
    "# 4. If the target has a radius of 9, calculate the number of arrows that \n",
    "# must be picked up in the forest.\n",
    "\n",
    "fleche_perdu = 0\n",
    "\n",
    "for x,y in points: \n",
    "\tif distance((x,y),(0,0))>9:\n",
    "\t\tfleche_perdu +=1\n",
    "\n",
    "print (\"il y a\",fleche_perdu,\"fleche perdu dans la forêt.\")\n"
   ]
  },
  {
   "cell_type": "code",
   "execution_count": null,
   "metadata": {},
   "outputs": [],
   "source": []
  }
 ],
 "metadata": {
  "kernelspec": {
   "display_name": "Python 3",
   "language": "python",
   "name": "python3"
  },
  "language_info": {
   "codemirror_mode": {
    "name": "ipython",
    "version": 3
   },
   "file_extension": ".py",
   "mimetype": "text/x-python",
   "name": "python",
   "nbconvert_exporter": "python",
   "pygments_lexer": "ipython3",
   "version": "3.7.3"
  }
 },
 "nbformat": 4,
 "nbformat_minor": 2
}
